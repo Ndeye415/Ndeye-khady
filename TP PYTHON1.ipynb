{
 "cells": [
  {
   "cell_type": "markdown",
   "id": "6366138e",
   "metadata": {},
   "source": [
    "# exercise 10"
   ]
  },
  {
   "cell_type": "code",
   "execution_count": 13,
   "id": "250270db",
   "metadata": {},
   "outputs": [
    {
     "name": "stdout",
     "output_type": "stream",
     "text": [
      "il faut repondre par oui ou non \n",
      "vous etes adulte ? OK\n",
      "vous devez répondre par oui ou bien non \n",
      "vous etes adulte ? OUI\n",
      "vous devez répondre par oui ou bien non \n",
      "vous etes adulte ? oui\n",
      "au revoir\n"
     ]
    }
   ],
   "source": [
    "print(\"il faut repondre par oui ou non \")\n",
    "while 'true':\n",
    "    rep=input(\"vous etes adulte ? \")\n",
    "    if rep!=\"oui\" and rep!=\"non\": \n",
    "        print(\"vous devez répondre par oui ou bien non \")\n",
    "    else:\n",
    "        break\n",
    "print(\"au revoir\")"
   ]
  },
  {
   "cell_type": "markdown",
   "id": "ce8f24c0",
   "metadata": {},
   "source": [
    "# exercice 1"
   ]
  },
  {
   "cell_type": "code",
   "execution_count": 1,
   "id": "7d83155a",
   "metadata": {},
   "outputs": [
    {
     "name": "stdout",
     "output_type": "stream",
     "text": [
      "entre un nombre de a20\n",
      "entre un nombre de b40\n",
      "entre un nombre de c50\n",
      "le maximum des trois nombre est: 50\n"
     ]
    }
   ],
   "source": [
    "a=int(input(\"entre un nombre de a\"))\n",
    "b=int(input(\"entre un nombre de b\"))\n",
    "c=int(input(\"entre un nombre de c\"))\n",
    "# définir et initialiser le maximum à zéro\n",
    "max=0\n",
    "if(a>b):\n",
    "    max=a\n",
    "else:\n",
    "    max=b\n",
    "if(max<c):\n",
    "    max=c\n",
    "    print(\"le maximum des trois nombre est:\",max)"
   ]
  },
  {
   "cell_type": "markdown",
   "id": "cd0dd100",
   "metadata": {},
   "source": [
    "# EXERCISE 2"
   ]
  },
  {
   "cell_type": "code",
   "execution_count": 12,
   "id": "c34241cd",
   "metadata": {},
   "outputs": [
    {
     "name": "stdout",
     "output_type": "stream",
     "text": [
      "entrez un alphabet : e\n",
      "c'est une voyelle\n"
     ]
    }
   ],
   "source": [
    "alpha=(input(\"entrez un alphabet : \"))\n",
    "if alpha==\"a\" or alpha==\"o\" or alpha==\"u\" or alpha==\"i\" or alpha==\"e\":\n",
    "    print(\"c'est une voyelle\")\n",
    "else:\n",
    "    print(\"c'est une consonne\")"
   ]
  },
  {
   "cell_type": "markdown",
   "id": "1088e484",
   "metadata": {},
   "source": [
    "# EXERCISE 3"
   ]
  },
  {
   "cell_type": "code",
   "execution_count": 21,
   "id": "d0289de1",
   "metadata": {},
   "outputs": [
    {
     "name": "stdout",
     "output_type": "stream",
     "text": [
      "entrez les jour de la semaine:mardi\n",
      "jour no 2\n"
     ]
    }
   ],
   "source": [
    "jour=input(\"entrez les jour de la semaine:\")\n",
    "if jour==\"lundi\":\n",
    "    print(\"jour no 1\")\n",
    "elif jour==\"mardi\":\n",
    "    print(\"jour no 2\")\n",
    "elif jour==\"mercredi\":\n",
    "    print(\"jour no 3\")\n",
    "elif jour==\"jeudi\":\n",
    "    print(\"jour no 4\")\n",
    "elif jour==\"vendredi\":\n",
    "    print(\"jour no 5\")\n",
    "elif jour==\"samedi\":\n",
    "    print(\"jour no 6\")\n",
    "elif jour==\"Dimanche\":\n",
    "    print(\"jour no 7\")"
   ]
  },
  {
   "cell_type": "markdown",
   "id": "e6d4ad92",
   "metadata": {},
   "source": [
    "# exercice 4"
   ]
  },
  {
   "cell_type": "code",
   "execution_count": 24,
   "id": "6b80db4f",
   "metadata": {},
   "outputs": [
    {
     "name": "stdout",
     "output_type": "stream",
     "text": [
      "entrez le prix de fabrication:300\n",
      "entrez le prix de fabrication:500\n",
      "perte egal 200\n"
     ]
    }
   ],
   "source": [
    "pv= int(input(\"entrez le prix de fabrication:\"))\n",
    "pf=int(input(\"entrez le prix de fabrication:\"))\n",
    "if pv>pf:\n",
    "    montant=pv-pf\n",
    "    print(\"profit egal\",montant);\n",
    "elif(pf>pv):\n",
    "    montant=pf-pv\n",
    "    print(\"perte egal\",montant),\n",
    "else:\n",
    "    print(\"Ni profit ni perte\")\n",
    "\n"
   ]
  },
  {
   "cell_type": "code",
   "execution_count": 3,
   "id": "3bcdc7cd",
   "metadata": {},
   "outputs": [
    {
     "name": "stdout",
     "output_type": "stream",
     "text": [
      "renseignez l'année:2012\n",
      "l'année est bissextile\n"
     ]
    }
   ],
   "source": [
    "année=int(input(\"renseignez l'année:\"))\n",
    "if année==366:\n",
    "    print(\"l'année est bissextile\")\n",
    "if(année%4==0 or année%400==0) and année%100!=0:\n",
    "    print(\"l'année est bissextile\")\n",
    "else:\n",
    "    print(\"l'année n'est pas bissextile\")"
   ]
  },
  {
   "cell_type": "markdown",
   "id": "380d6b7f",
   "metadata": {},
   "source": [
    "# exercise 6"
   ]
  },
  {
   "cell_type": "code",
   "execution_count": 5,
   "id": "8e689f5e",
   "metadata": {},
   "outputs": [
    {
     "name": "stdout",
     "output_type": "stream",
     "text": [
      "veuillez saisir le nombre de ligne:5\n",
      "    *\n",
      "   ***\n",
      "  *****\n",
      " *******\n",
      "*********\n"
     ]
    }
   ],
   "source": [
    "L=int(input(\"veuillez saisir le nombre de ligne:\"))\n",
    "for i in range(1,L+1):\n",
    "    for j in range(1,L-i+1):\n",
    "        print(\" \",end=\"\")\n",
    "    for j in range(1,2*i-1+1):\n",
    "        print(\"*\",end=\"\")\n",
    "    print()"
   ]
  },
  {
   "cell_type": "markdown",
   "id": "c419019b",
   "metadata": {},
   "source": [
    "# EXERCISE 7"
   ]
  },
  {
   "cell_type": "code",
   "execution_count": null,
   "id": "4e43f089",
   "metadata": {},
   "outputs": [],
   "source": []
  },
  {
   "cell_type": "code",
   "execution_count": null,
   "id": "75d5726f",
   "metadata": {},
   "outputs": [],
   "source": []
  }
 ],
 "metadata": {
  "kernelspec": {
   "display_name": "Python 3",
   "language": "python",
   "name": "python3"
  },
  "language_info": {
   "codemirror_mode": {
    "name": "ipython",
    "version": 3
   },
   "file_extension": ".py",
   "mimetype": "text/x-python",
   "name": "python",
   "nbconvert_exporter": "python",
   "pygments_lexer": "ipython3",
   "version": "3.8.8"
  }
 },
 "nbformat": 4,
 "nbformat_minor": 5
}
